{
 "cells": [
  {
   "cell_type": "markdown",
   "metadata": {},
   "source": [
    "MENCARI NILAI PREDIKSI MENGGUNAKAN PENDEKATAN PERSAMAAN LINEAR -> y=mx+c\n",
    "\n",
    "*m = gradien (kemiringan)\n",
    "*c = pergeseran\n",
    "\n",
    "Error = (y-(b0+b1)x)^2"
   ]
  },
  {
   "cell_type": "code",
   "execution_count": null,
   "metadata": {
    "vscode": {
     "languageId": "plaintext"
    }
   },
   "outputs": [],
   "source": []
  },
  {
   "cell_type": "code",
   "execution_count": null,
   "metadata": {
    "vscode": {
     "languageId": "plaintext"
    }
   },
   "outputs": [],
   "source": []
  }
 ],
 "metadata": {
  "language_info": {
   "name": "python"
  }
 },
 "nbformat": 4,
 "nbformat_minor": 2
}
