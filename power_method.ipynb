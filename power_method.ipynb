{
  "nbformat": 4,
  "nbformat_minor": 0,
  "metadata": {
    "colab": {
      "provenance": []
    },
    "kernelspec": {
      "name": "python3",
      "display_name": "Python 3"
    },
    "language_info": {
      "name": "python"
    }
  },
  "cells": [
    {
      "cell_type": "markdown",
      "source": [
        "Nama Anggota Kelompok: Kelompok 8\n",
        "1.   Achmad Rohmandzoni Z M          | 225150301111027\n",
        "2.   Tengku Muhammad Fadlan Praditya | 225150307111051\n",
        "3.   Zidan Fadil Yahya               | 225150300111034\n",
        "\n",
        "---\n",
        "\n",
        "SOAL:\n",
        "\n",
        "1.   Tentukan sembarang matrik 3x3. Kemudian carilah nilai eigen dan vektor eigen menggunakan metode power hingga 5 iterasi.\n",
        "2.   Tuliskan algoritma metode power\n",
        "3. Berdasarkan algoritma power yang Anda tuliskan tersebut Buat program metode power menggunakan bahasa pemrograman python"
      ],
      "metadata": {
        "id": "-fiRIGftH03t"
      }
    },
    {
      "cell_type": "code",
      "source": [
        "import numpy as np\n",
        "\n",
        "A = np.array([[4, 1, 2],\n",
        "              [1, 3, 1],\n",
        "              [2, 1, 3]], dtype=float)\n",
        "X0 = np.array([1, 1, 1], dtype=float)\n",
        "\n",
        "print(\"Iterasi | Eigen Value        | Eigen Vektor\")\n",
        "print(\"-------------------------------------------------\")\n",
        "\n",
        "i = 0\n",
        "X = X0\n",
        "\n",
        "while True:\n",
        "    Y = np.dot(A, X)\n",
        "    eigen_value = np.max(np.abs(Y))\n",
        "    X_new = Y / eigen_value\n",
        "\n",
        "    print(f\"{i:7d} | {eigen_value:18.6f} | {X_new}\")\n",
        "\n",
        "    if np.linalg.norm(X_new - X) < 0.001:\n",
        "        break\n",
        "\n",
        "    X = X_new\n",
        "    i += 1"
      ],
      "metadata": {
        "colab": {
          "base_uri": "https://localhost:8080/"
        },
        "id": "B5ZzFWwZOP0a",
        "outputId": "2b984982-331e-4008-c43c-87071df95b1a"
      },
      "execution_count": null,
      "outputs": [
        {
          "output_type": "stream",
          "name": "stdout",
          "text": [
            "Iterasi | Eigen Value        | Eigen Vektor\n",
            "-------------------------------------------------\n",
            "      0 |           7.000000 | [1.         0.71428571 0.85714286]\n",
            "      1 |           6.428571 | [1.         0.62222222 0.82222222]\n",
            "      2 |           6.266667 | [1.         0.58865248 0.81205674]\n",
            "      3 |           6.212766 | [1.         0.57591324 0.80878995]\n",
            "      4 |           6.193493 | [1.         0.57100728 0.8076675 ]\n",
            "      5 |           6.186342 | [1.         0.56910678 0.80726373]\n",
            "      6 |           6.183634 | [1.         0.56836869 0.80711403]\n"
          ]
        }
      ]
    }
  ]
}